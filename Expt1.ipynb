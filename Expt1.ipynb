{
  "nbformat": 4,
  "nbformat_minor": 0,
  "metadata": {
    "colab": {
      "provenance": [],
      "authorship_tag": "ABX9TyPkA0isQuvkEYq99Oz9OYnB",
      "include_colab_link": true
    },
    "kernelspec": {
      "name": "python3",
      "display_name": "Python 3"
    },
    "language_info": {
      "name": "python"
    }
  },
  "cells": [
    {
      "cell_type": "markdown",
      "metadata": {
        "id": "view-in-github",
        "colab_type": "text"
      },
      "source": [
        "<a href=\"https://colab.research.google.com/github/KesteHarshada87/ANN/blob/main/Expt1.ipynb\" target=\"_parent\"><img src=\"https://colab.research.google.com/assets/colab-badge.svg\" alt=\"Open In Colab\"/></a>"
      ]
    },
    {
      "cell_type": "code",
      "execution_count": null,
      "metadata": {
        "id": "hmYeMpLg9hT2"
      },
      "outputs": [],
      "source": []
    },
    {
      "cell_type": "code",
      "source": [
        "import numpy as np\n",
        "\n",
        "inputs=np.array([[0,0],[0,1],[1,0],[1,1]])\n",
        "weights=np.array([1,1])\n",
        "bais= -1\n",
        "length=len(inputs)\n",
        "\n",
        "weighted_sum=0\n",
        "\n",
        "for i in range(length):\n",
        "  weighted_sum=inputs[i,0]*weights[0]+inputs[i,1]*weights[1]+bais\n",
        "\n",
        "  if(weighted_sum>0):\n",
        "    print(\"1\")\n",
        "  else:\n",
        "    print(\"0\")\n"
      ],
      "metadata": {
        "colab": {
          "base_uri": "https://localhost:8080/"
        },
        "id": "1qjyy7N3917S",
        "outputId": "63a45e38-418a-4592-e101-5091be8b5e44"
      },
      "execution_count": null,
      "outputs": [
        {
          "output_type": "stream",
          "name": "stdout",
          "text": [
            "0\n",
            "0\n",
            "0\n",
            "1\n"
          ]
        }
      ]
    },
    {
      "cell_type": "code",
      "source": [],
      "metadata": {
        "id": "crQSFMCDA4I5"
      },
      "execution_count": null,
      "outputs": []
    }
  ]
}