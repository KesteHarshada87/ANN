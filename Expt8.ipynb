{
  "nbformat": 4,
  "nbformat_minor": 0,
  "metadata": {
    "colab": {
      "provenance": [],
      "authorship_tag": "ABX9TyN6Unqf9W12byP0B7AlBIWg",
      "include_colab_link": true
    },
    "kernelspec": {
      "name": "python3",
      "display_name": "Python 3"
    },
    "language_info": {
      "name": "python"
    }
  },
  "cells": [
    {
      "cell_type": "markdown",
      "metadata": {
        "id": "view-in-github",
        "colab_type": "text"
      },
      "source": [
        "<a href=\"https://colab.research.google.com/github/KesteHarshada87/ANN/blob/main/Expt8.ipynb\" target=\"_parent\"><img src=\"https://colab.research.google.com/assets/colab-badge.svg\" alt=\"Open In Colab\"/></a>"
      ]
    },
    {
      "cell_type": "code",
      "execution_count": 1,
      "metadata": {
        "colab": {
          "base_uri": "https://localhost:8080/"
        },
        "id": "YokJTqcb2e_Z",
        "outputId": "36c7708e-0043-4a55-e3e1-1a2bb21573bf"
      },
      "outputs": [
        {
          "output_type": "stream",
          "name": "stdout",
          "text": [
            "Epoch 0, MSE: 40.310647592187465\n",
            "Epoch 10, MSE: 14.670200909515804\n",
            "Epoch 20, MSE: 5.338882445995606\n",
            "Epoch 30, MSE: 1.9429546359169123\n",
            "Epoch 40, MSE: 0.7070871806916987\n",
            "Epoch 50, MSE: 0.2573245737785682\n",
            "Epoch 60, MSE: 0.0936456376605739\n",
            "Epoch 70, MSE: 0.034079391072659095\n",
            "Epoch 80, MSE: 0.012402067259147767\n",
            "Epoch 90, MSE: 0.004513301169513352\n",
            "Epoch 100, MSE: 0.0016424513657415495\n",
            "Epoch 110, MSE: 0.0005977074781697326\n",
            "Epoch 120, MSE: 0.0002175118001505696\n",
            "Epoch 130, MSE: 7.915437307881698e-05\n",
            "Epoch 140, MSE: 2.880480619360187e-05\n",
            "Epoch 150, MSE: 1.0482212269974935e-05\n",
            "\n",
            "Final Weights:\n",
            " [[5.99813215]\n",
            " [2.82757189]]\n",
            "\n",
            "Predictions:\n",
            "[[ 2.]\n",
            " [ 4.]\n",
            " [ 6.]\n",
            " [ 8.]\n",
            " [10.]]\n"
          ]
        }
      ],
      "source": [
        "#implement lms\n",
        "import numpy as np\n",
        "import pandas as pd\n",
        "import matplotlib.pyplot as plt\n",
        "\n",
        "X = np.array([[1],[2],[3],[4],[5]])\n",
        "Y = np.array([[2],[4],[6],[8],[10]])\n",
        "\n",
        "# Normalize features\n",
        "X = (X - np.mean(X)) / np.std(X)\n",
        "\n",
        "# Add bias term to X\n",
        "X = np.hstack((np.ones((X.shape[0], 1)), X))  # Shape: (n_samples, 2)\n",
        "\n",
        "w = np.random.randn(2, 1)  # Initialize weights randomly\n",
        "lr = 0.01\n",
        "epochs = 160\n",
        "\n",
        "for epoch in range(epochs):\n",
        "    for i in range(X.shape[0]):\n",
        "        xi = X[i].reshape(1, -1)  # Shape: (1, 2)\n",
        "        yi = Y[i].reshape(1, -1)  # Shape: (1, 1)\n",
        "\n",
        "        y_pred = np.dot(xi, w)  # Shape: (1, 1)\n",
        "\n",
        "        error = yi - y_pred  # Shape: (1, 1)\n",
        "\n",
        "        # gradient = -2 * xi.T.dot(error)  # Shape: (2, 1)\n",
        "\n",
        "        # w -= lr * gradient\n",
        "\n",
        "        w = w + lr * xi.T * error\n",
        "\n",
        "    if epoch % 10 == 0:\n",
        "        y_all_pred = np.dot(X, w)\n",
        "        mse = np.mean((Y - y_all_pred) ** 2)\n",
        "        print(f\"Epoch {epoch}, MSE: {mse}\")\n",
        "\n",
        "print(\"\\nFinal Weights:\\n\", w)\n",
        "print(\"\\nPredictions:\")\n",
        "predictions = np.dot(X, w)\n",
        "print(predictions.round(2))"
      ]
    }
  ]
}