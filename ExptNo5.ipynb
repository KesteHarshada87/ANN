{
  "nbformat": 4,
  "nbformat_minor": 0,
  "metadata": {
    "colab": {
      "provenance": [],
      "authorship_tag": "ABX9TyM1NuGI6ypCClzEW4XquUR3",
      "include_colab_link": true
    },
    "kernelspec": {
      "name": "python3",
      "display_name": "Python 3"
    },
    "language_info": {
      "name": "python"
    }
  },
  "cells": [
    {
      "cell_type": "markdown",
      "metadata": {
        "id": "view-in-github",
        "colab_type": "text"
      },
      "source": [
        "<a href=\"https://colab.research.google.com/github/KesteHarshada87/ANN/blob/main/ExptNo5.ipynb\" target=\"_parent\"><img src=\"https://colab.research.google.com/assets/colab-badge.svg\" alt=\"Open In Colab\"/></a>"
      ]
    },
    {
      "cell_type": "code",
      "source": [
        "!pip install openpyxl"
      ],
      "metadata": {
        "colab": {
          "base_uri": "https://localhost:8080/"
        },
        "id": "d3IuMdXu3Q91",
        "outputId": "b99f4ce8-70fd-4b5b-a8c4-329d33c32e16"
      },
      "execution_count": 3,
      "outputs": [
        {
          "output_type": "stream",
          "name": "stdout",
          "text": [
            "Requirement already satisfied: openpyxl in /usr/local/lib/python3.11/dist-packages (3.1.5)\n",
            "Requirement already satisfied: et-xmlfile in /usr/local/lib/python3.11/dist-packages (from openpyxl) (2.0.0)\n"
          ]
        }
      ]
    },
    {
      "cell_type": "code",
      "source": [
        "from google.colab import files\n",
        "uploaded = files.upload()"
      ],
      "metadata": {
        "colab": {
          "base_uri": "https://localhost:8080/",
          "height": 73
        },
        "id": "ouOFHVGF3WDc",
        "outputId": "b0bdcd8c-4e95-4e8f-8841-4ac4839d55fb"
      },
      "execution_count": 4,
      "outputs": [
        {
          "output_type": "display_data",
          "data": {
            "text/plain": [
              "<IPython.core.display.HTML object>"
            ],
            "text/html": [
              "\n",
              "     <input type=\"file\" id=\"files-07162460-18fb-491c-9e7e-e9a52ee19db7\" name=\"files[]\" multiple disabled\n",
              "        style=\"border:none\" />\n",
              "     <output id=\"result-07162460-18fb-491c-9e7e-e9a52ee19db7\">\n",
              "      Upload widget is only available when the cell has been executed in the\n",
              "      current browser session. Please rerun this cell to enable.\n",
              "      </output>\n",
              "      <script>// Copyright 2017 Google LLC\n",
              "//\n",
              "// Licensed under the Apache License, Version 2.0 (the \"License\");\n",
              "// you may not use this file except in compliance with the License.\n",
              "// You may obtain a copy of the License at\n",
              "//\n",
              "//      http://www.apache.org/licenses/LICENSE-2.0\n",
              "//\n",
              "// Unless required by applicable law or agreed to in writing, software\n",
              "// distributed under the License is distributed on an \"AS IS\" BASIS,\n",
              "// WITHOUT WARRANTIES OR CONDITIONS OF ANY KIND, either express or implied.\n",
              "// See the License for the specific language governing permissions and\n",
              "// limitations under the License.\n",
              "\n",
              "/**\n",
              " * @fileoverview Helpers for google.colab Python module.\n",
              " */\n",
              "(function(scope) {\n",
              "function span(text, styleAttributes = {}) {\n",
              "  const element = document.createElement('span');\n",
              "  element.textContent = text;\n",
              "  for (const key of Object.keys(styleAttributes)) {\n",
              "    element.style[key] = styleAttributes[key];\n",
              "  }\n",
              "  return element;\n",
              "}\n",
              "\n",
              "// Max number of bytes which will be uploaded at a time.\n",
              "const MAX_PAYLOAD_SIZE = 100 * 1024;\n",
              "\n",
              "function _uploadFiles(inputId, outputId) {\n",
              "  const steps = uploadFilesStep(inputId, outputId);\n",
              "  const outputElement = document.getElementById(outputId);\n",
              "  // Cache steps on the outputElement to make it available for the next call\n",
              "  // to uploadFilesContinue from Python.\n",
              "  outputElement.steps = steps;\n",
              "\n",
              "  return _uploadFilesContinue(outputId);\n",
              "}\n",
              "\n",
              "// This is roughly an async generator (not supported in the browser yet),\n",
              "// where there are multiple asynchronous steps and the Python side is going\n",
              "// to poll for completion of each step.\n",
              "// This uses a Promise to block the python side on completion of each step,\n",
              "// then passes the result of the previous step as the input to the next step.\n",
              "function _uploadFilesContinue(outputId) {\n",
              "  const outputElement = document.getElementById(outputId);\n",
              "  const steps = outputElement.steps;\n",
              "\n",
              "  const next = steps.next(outputElement.lastPromiseValue);\n",
              "  return Promise.resolve(next.value.promise).then((value) => {\n",
              "    // Cache the last promise value to make it available to the next\n",
              "    // step of the generator.\n",
              "    outputElement.lastPromiseValue = value;\n",
              "    return next.value.response;\n",
              "  });\n",
              "}\n",
              "\n",
              "/**\n",
              " * Generator function which is called between each async step of the upload\n",
              " * process.\n",
              " * @param {string} inputId Element ID of the input file picker element.\n",
              " * @param {string} outputId Element ID of the output display.\n",
              " * @return {!Iterable<!Object>} Iterable of next steps.\n",
              " */\n",
              "function* uploadFilesStep(inputId, outputId) {\n",
              "  const inputElement = document.getElementById(inputId);\n",
              "  inputElement.disabled = false;\n",
              "\n",
              "  const outputElement = document.getElementById(outputId);\n",
              "  outputElement.innerHTML = '';\n",
              "\n",
              "  const pickedPromise = new Promise((resolve) => {\n",
              "    inputElement.addEventListener('change', (e) => {\n",
              "      resolve(e.target.files);\n",
              "    });\n",
              "  });\n",
              "\n",
              "  const cancel = document.createElement('button');\n",
              "  inputElement.parentElement.appendChild(cancel);\n",
              "  cancel.textContent = 'Cancel upload';\n",
              "  const cancelPromise = new Promise((resolve) => {\n",
              "    cancel.onclick = () => {\n",
              "      resolve(null);\n",
              "    };\n",
              "  });\n",
              "\n",
              "  // Wait for the user to pick the files.\n",
              "  const files = yield {\n",
              "    promise: Promise.race([pickedPromise, cancelPromise]),\n",
              "    response: {\n",
              "      action: 'starting',\n",
              "    }\n",
              "  };\n",
              "\n",
              "  cancel.remove();\n",
              "\n",
              "  // Disable the input element since further picks are not allowed.\n",
              "  inputElement.disabled = true;\n",
              "\n",
              "  if (!files) {\n",
              "    return {\n",
              "      response: {\n",
              "        action: 'complete',\n",
              "      }\n",
              "    };\n",
              "  }\n",
              "\n",
              "  for (const file of files) {\n",
              "    const li = document.createElement('li');\n",
              "    li.append(span(file.name, {fontWeight: 'bold'}));\n",
              "    li.append(span(\n",
              "        `(${file.type || 'n/a'}) - ${file.size} bytes, ` +\n",
              "        `last modified: ${\n",
              "            file.lastModifiedDate ? file.lastModifiedDate.toLocaleDateString() :\n",
              "                                    'n/a'} - `));\n",
              "    const percent = span('0% done');\n",
              "    li.appendChild(percent);\n",
              "\n",
              "    outputElement.appendChild(li);\n",
              "\n",
              "    const fileDataPromise = new Promise((resolve) => {\n",
              "      const reader = new FileReader();\n",
              "      reader.onload = (e) => {\n",
              "        resolve(e.target.result);\n",
              "      };\n",
              "      reader.readAsArrayBuffer(file);\n",
              "    });\n",
              "    // Wait for the data to be ready.\n",
              "    let fileData = yield {\n",
              "      promise: fileDataPromise,\n",
              "      response: {\n",
              "        action: 'continue',\n",
              "      }\n",
              "    };\n",
              "\n",
              "    // Use a chunked sending to avoid message size limits. See b/62115660.\n",
              "    let position = 0;\n",
              "    do {\n",
              "      const length = Math.min(fileData.byteLength - position, MAX_PAYLOAD_SIZE);\n",
              "      const chunk = new Uint8Array(fileData, position, length);\n",
              "      position += length;\n",
              "\n",
              "      const base64 = btoa(String.fromCharCode.apply(null, chunk));\n",
              "      yield {\n",
              "        response: {\n",
              "          action: 'append',\n",
              "          file: file.name,\n",
              "          data: base64,\n",
              "        },\n",
              "      };\n",
              "\n",
              "      let percentDone = fileData.byteLength === 0 ?\n",
              "          100 :\n",
              "          Math.round((position / fileData.byteLength) * 100);\n",
              "      percent.textContent = `${percentDone}% done`;\n",
              "\n",
              "    } while (position < fileData.byteLength);\n",
              "  }\n",
              "\n",
              "  // All done.\n",
              "  yield {\n",
              "    response: {\n",
              "      action: 'complete',\n",
              "    }\n",
              "  };\n",
              "}\n",
              "\n",
              "scope.google = scope.google || {};\n",
              "scope.google.colab = scope.google.colab || {};\n",
              "scope.google.colab._files = {\n",
              "  _uploadFiles,\n",
              "  _uploadFilesContinue,\n",
              "};\n",
              "})(self);\n",
              "</script> "
            ]
          },
          "metadata": {}
        },
        {
          "output_type": "stream",
          "name": "stdout",
          "text": [
            "Saving Student_dataset.xlsx to Student_dataset.xlsx\n"
          ]
        }
      ]
    },
    {
      "cell_type": "code",
      "source": [
        "from google.colab import drive\n",
        "drive.mount('/content/drive')"
      ],
      "metadata": {
        "colab": {
          "base_uri": "https://localhost:8080/"
        },
        "id": "kkAfExQu3dZ2",
        "outputId": "9350caf1-03d1-4a8f-ae5f-536b49b358ff"
      },
      "execution_count": 5,
      "outputs": [
        {
          "output_type": "stream",
          "name": "stdout",
          "text": [
            "Mounted at /content/drive\n"
          ]
        }
      ]
    },
    {
      "cell_type": "code",
      "source": [
        "!ls /content/drive/MyDrive"
      ],
      "metadata": {
        "colab": {
          "base_uri": "https://localhost:8080/"
        },
        "id": "AGJlZQo93nvW",
        "outputId": "93439383-aa2b-4fa6-ad50-2461bb4a7886"
      },
      "execution_count": 6,
      "outputs": [
        {
          "output_type": "stream",
          "name": "stdout",
          "text": [
            " 23UAM052\n",
            "'23UAM052 (1)'\n",
            " ab.py\n",
            " allfunctions.c\n",
            " Assignmentno.2.cpp\n",
            " attachBeginFinal.c\n",
            " attachEnd.c\n",
            " attachMiddle.c\n",
            " attachMiddleIndex.c\n",
            " bubblesort.c\n",
            " c\n",
            " Classroom\n",
            "'Colab Notebooks'\n",
            " deletion.c\n",
            " Desktop\n",
            " detachBeginFinal.c\n",
            " detachEnd.c\n",
            " detachMiddle.c\n",
            "'DS File'\n",
            "'Ebook_Artificial.Intelligence.A.Modern.Approach.4th.Edition.Peter.Norvig. Stuart.Russell.Pearson.9780134610993.EBooksWorld.ir.gdoc'\n",
            " enqueuedequeueLinkedList.c\n",
            " expt1.html\n",
            " final\n",
            " G15\n",
            " greatest.py\n",
            " Harshada\n",
            " hello.py\n",
            "'Image to PDF 20241116 17.23.12.pdf'\n",
            " IMG-20240824-WA0018.jpg\n",
            " IMG-20240826-WA0014.jpg\n",
            " IMG_20241117_194849.jpg\n",
            " IMG_20241117_194901.jpg\n",
            " IMG20241209185032.jpg\n",
            "'IMG-20250313-WA0008 (1).jpg'\n",
            " IMG-20250313-WA0008.jpg\n",
            " IMG-20250313-WA0009.jpg\n",
            "'import numpy as np.txt'\n",
            " index.html\n",
            " insertion.c\n",
            "'Introduction to IoT Lab -Expt No.1.gdoc'\n",
            " linearsearch.c\n",
            " list.py\n",
            " LuckyNo..c\n",
            " multiple7.py\n",
            " oddeven.py\n",
            " popPushStackList.c\n",
            "'Screenshot 2024-08-29 071257.png'\n",
            " Screenshot_2024-11-16-17-13-54-46_c37d74246d9c81aa0bb824b57eaf7062.jpg\n",
            " Screenshot_2024-11-17-19-43-26-20_c37d74246d9c81aa0bb824b57eaf7062.jpg\n",
            "'Screenshot 2025-01-16 100908.png'\n",
            "'Screenshot 2025-01-16 101626.png'\n",
            "'Screenshot 2025-01-16 101937.png'\n",
            "'Screenshot 2025-01-16 102231.png'\n",
            "'Screenshot 2025-01-16 102449.png'\n",
            "'Screenshot 2025-01-16 103748.png'\n",
            "'Screenshot 2025-01-16 104308.png'\n",
            "'Screenshot 2025-01-16 104645.png'\n",
            "'Screenshot 2025-01-16 104859.png'\n",
            "'Screenshot 2025-01-16 105151.png'\n",
            "'Screenshot 2025-01-16 105338.png'\n",
            "'Screenshot 2025-01-16 105506.png'\n",
            "'Screenshot 2025-01-16 105652.png'\n",
            "'Screenshot 2025-01-16 105848.png'\n",
            "'Screenshot 2025-01-16 110130.png'\n",
            "'Screenshot 2025-01-16 110358.png'\n",
            "'Screenshot 2025-01-16 110549.png'\n",
            "'Screenshot 2025-01-16 111343.png'\n",
            "'Screenshot 2025-01-16 111657.png'\n",
            "'Screenshot 2025-01-16 112021.png'\n",
            "'Screenshot 2025-01-16 211118.png'\n",
            "'Screenshot 2025-01-16 230729.png'\n",
            "'Screenshot_2025-02-12-12-15-02-54_40deb401b9ffe8e1df2f1cc5ba480b12 (1).jpg'\n",
            " Screenshot_2025-02-12-12-15-02-54_40deb401b9ffe8e1df2f1cc5ba480b12.jpg\n",
            " search.c\n",
            " selectionsort.c\n",
            " selectionsort.exe\n",
            " Shraddha\n",
            " sk.html\n",
            " stackLinkedListPop.c\n",
            " stackLinkedListPush.c\n",
            " stackListPop.c\n",
            " stackListPush.c\n",
            " strlen.py\n",
            " Student_dataset.xlsx\n",
            " student.py\n",
            " traverse.c\n",
            " traverselinkedlist.c\n",
            " UNIT-1.gdoc\n"
          ]
        }
      ]
    },
    {
      "cell_type": "code",
      "source": [
        "!ls \"/content/drive/MyDrive/Student_dataset.xlsx\""
      ],
      "metadata": {
        "colab": {
          "base_uri": "https://localhost:8080/"
        },
        "id": "YUP_MXWU3sme",
        "outputId": "f17699de-84e6-4b05-dd53-eff501a07b82"
      },
      "execution_count": 8,
      "outputs": [
        {
          "output_type": "stream",
          "name": "stdout",
          "text": [
            "/content/drive/MyDrive/Student_dataset.xlsx\n"
          ]
        }
      ]
    },
    {
      "cell_type": "code",
      "source": [
        "import numpy as np\n",
        "import pandas as pd\n",
        "\n",
        "# Creating a dataset\n",
        "df = pd.DataFrame(\n",
        "    [[8.5, 85, 88, 120, 1], [7.2, 78, 74, 110, 0], [9.1, 90, 92, 130, 1], [6.8, 70, 65, 105, 0]],\n",
        "    columns=['CGPA', '10th Score', '12th Score', 'IQ', 'Placement']\n",
        ")\n",
        "\n",
        "# Initializing parameters\n",
        "def initialize_parameters(layer_dims):\n",
        "    np.random.seed(3)\n",
        "    print(\"Layer dimensions:\", layer_dims)\n",
        "    parameters = {}\n",
        "    L = len(layer_dims)\n",
        "    print(\"Total no. of layers in neural network:\", L)\n",
        "    for i in range(1, L):\n",
        "        parameters['W' + str(i)] = np.ones((layer_dims[i], layer_dims[i-1])) * 0.1\n",
        "        parameters['b' + str(i)] = np.zeros((layer_dims[i], 1))\n",
        "    return parameters"
      ],
      "metadata": {
        "id": "HZvbO_ZX4CgJ"
      },
      "execution_count": 9,
      "outputs": []
    },
    {
      "cell_type": "code",
      "source": [
        "# Forward propagation\n",
        "def linear_forward(A_prev, W, b):\n",
        "    Z = np.dot(W, A_prev) + b\n",
        "    cache = (A_prev, W, b)\n",
        "    return Z, cache\n",
        "\n",
        "def relu(Z):\n",
        "    return np.maximum(0, Z)\n",
        "\n",
        "def l_layer_forward(X, parameters):\n",
        "    A = X\n",
        "    caches = []\n",
        "    L = len(parameters) // 2\n",
        "    for i in range(1, L):\n",
        "        A_prev = A\n",
        "        W = parameters['W' + str(i)]\n",
        "        b = parameters['b' + str(i)]\n",
        "        Z, cache = linear_forward(A_prev, W, b)\n",
        "        A = relu(Z)\n",
        "        caches.append(cache)\n",
        "\n",
        "    # Output layer\n",
        "    W_out = parameters['W' + str(L)]\n",
        "    b_out = parameters['b' + str(L)]\n",
        "    Z_out, cache_out = linear_forward(A, W_out, b_out)\n",
        "    AL = Z_out\n",
        "    caches.append(cache_out)\n",
        "\n",
        "    return AL, caches\n",
        "\n",
        "# Example execution\n",
        "X = df[['CGPA', '10th Score']].values[0].reshape(2, 1)\n",
        "parameters = initialize_parameters([2, 2, 1])\n",
        "y_hat, caches = l_layer_forward(X, parameters)\n",
        "print(\"Final output:\")\n",
        "print(y_hat)\n"
      ],
      "metadata": {
        "colab": {
          "base_uri": "https://localhost:8080/"
        },
        "id": "Vr05AFt94H99",
        "outputId": "a367ea99-47ef-40ef-f51a-50033dd6ec32"
      },
      "execution_count": 10,
      "outputs": [
        {
          "output_type": "stream",
          "name": "stdout",
          "text": [
            "Layer dimensions: [2, 2, 1]\n",
            "Total no. of layers in neural network: 3\n",
            "Final output:\n",
            "[[1.87]]\n"
          ]
        }
      ]
    }
  ]
}