{
  "nbformat": 4,
  "nbformat_minor": 0,
  "metadata": {
    "colab": {
      "provenance": [],
      "authorship_tag": "ABX9TyMndgn9xZF0Jno6KSqWaVQs",
      "include_colab_link": true
    },
    "kernelspec": {
      "name": "python3",
      "display_name": "Python 3"
    },
    "language_info": {
      "name": "python"
    }
  },
  "cells": [
    {
      "cell_type": "markdown",
      "metadata": {
        "id": "view-in-github",
        "colab_type": "text"
      },
      "source": [
        "<a href=\"https://colab.research.google.com/github/KesteHarshada87/ANN/blob/main/Workshop1.ipynb\" target=\"_parent\"><img src=\"https://colab.research.google.com/assets/colab-badge.svg\" alt=\"Open In Colab\"/></a>"
      ]
    },
    {
      "cell_type": "code",
      "execution_count": null,
      "metadata": {
        "id": "yLVrFdXqg2ZW"
      },
      "outputs": [],
      "source": [
        "#Identify the employee category"
      ]
    },
    {
      "cell_type": "code",
      "source": [
        "salary=int(input(\"Enter employee's salary:\"))\n",
        "if salary > 50000:\n",
        "  print(\"High Income\")\n",
        "elif salary > 30000 and salary <50000:\n",
        "  print(\"Medium Income\")\n",
        "elif salary < 30000:\n",
        "  print(\"Low Income\")\n",
        "else:\n",
        "  print(\"Invalid Input\")\n"
      ],
      "metadata": {
        "colab": {
          "base_uri": "https://localhost:8080/"
        },
        "id": "7rhx3_TJhJ9V",
        "outputId": "d6204d8a-505d-4282-f187-53ecc5480341"
      },
      "execution_count": 5,
      "outputs": [
        {
          "output_type": "stream",
          "name": "stdout",
          "text": [
            "Enter employee's salary:3500\n",
            "Low Income\n"
          ]
        }
      ]
    },
    {
      "cell_type": "code",
      "source": [
        "#Odd or Even Streetlight System"
      ],
      "metadata": {
        "id": "FY_oMr7hjCXP"
      },
      "execution_count": null,
      "outputs": []
    },
    {
      "cell_type": "code",
      "source": [
        "num=int(input(\"Enter count of streetlights:\"))\n",
        "if num % 2 == 0:\n",
        "  print(\"These streetlights are turn on on night\")\n",
        "else:\n",
        "  print(\"These streetlights are off\")\n",
        "\n"
      ],
      "metadata": {
        "colab": {
          "base_uri": "https://localhost:8080/"
        },
        "id": "CW9Zcs7rjQhM",
        "outputId": "788bf385-2e1d-49c7-c110-e844779e7a74"
      },
      "execution_count": 7,
      "outputs": [
        {
          "output_type": "stream",
          "name": "stdout",
          "text": [
            "Enter count of streetlights:15\n",
            "These streetlights are off\n"
          ]
        }
      ]
    },
    {
      "cell_type": "code",
      "source": [
        "# Designing a basic ATM like interface"
      ],
      "metadata": {
        "id": "egNP_-4ej27d"
      },
      "execution_count": null,
      "outputs": []
    },
    {
      "cell_type": "code",
      "source": [
        "print(\"Menu=>\\n 1.Check Balance\\n 2.Deposit Money\\n 3.Withdraw Money\\n 4.Exit the System\")\n",
        "choice=int(input(\"Enter your choice:\"))\n",
        "if choice==1:\n",
        "  print(\"Your balance is Rs.40000\")\n",
        "elif choice==2:\n",
        "  print(\"Enter the amount to deposit:\")\n",
        "  amount=0\n",
        "  amount=int(input())\n",
        "  print(\"Your balance is:\",amount+40000)\n",
        "elif choice==3:\n",
        "  print(\"Enter the amount you want:\")\n",
        "  new=int(input())\n",
        "  print(\"Your balance is:\",amount-new)\n",
        "else:\n",
        "  print(\"Exit the system\")"
      ],
      "metadata": {
        "colab": {
          "base_uri": "https://localhost:8080/"
        },
        "id": "GEFrPjavkMB2",
        "outputId": "f3c3fcdb-e286-40b2-c5a6-a623e73f5124"
      },
      "execution_count": 13,
      "outputs": [
        {
          "output_type": "stream",
          "name": "stdout",
          "text": [
            "Menu=>\n",
            " 1.Check Balance\n",
            " 2.Deposit Money\n",
            " 3.Withdraw Money\n",
            " 4.Exit the System\n",
            "Enter your choice:4\n",
            "Exit the system\n"
          ]
        }
      ]
    },
    {
      "cell_type": "code",
      "source": [
        "# Counting Passengers in a bus"
      ],
      "metadata": {
        "id": "AKAc0Vdpko-F"
      },
      "execution_count": null,
      "outputs": []
    },
    {
      "cell_type": "code",
      "source": [
        "initial=0\n",
        "for i in range(1,6):\n",
        "  num=int(input(\"Enter no. of passengers:\"))\n",
        "  initial=initial+num\n",
        "print(\"Total no. of passengers:\",initial)"
      ],
      "metadata": {
        "colab": {
          "base_uri": "https://localhost:8080/"
        },
        "id": "smyQwGiDmV48",
        "outputId": "d39c1e8b-f4ca-4c62-b04e-d51e4161ef2d"
      },
      "execution_count": 21,
      "outputs": [
        {
          "output_type": "stream",
          "name": "stdout",
          "text": [
            "Enter no. of passengers:10\n",
            "Enter no. of passengers:20\n",
            "Enter no. of passengers:10\n",
            "Enter no. of passengers:10\n",
            "Enter no. of passengers:0\n",
            "Total no. of passengers: 50\n"
          ]
        }
      ]
    },
    {
      "cell_type": "code",
      "source": [
        "#ATM PIN Verification"
      ],
      "metadata": {
        "id": "U4zZUZyboAzH"
      },
      "execution_count": null,
      "outputs": []
    },
    {
      "cell_type": "code",
      "source": [
        "for i in range(0,3):\n",
        "  pin=int(input(\"Enter you PIN:\"))\n",
        "  if pin == 1234:\n",
        "    print(\"You can get the access\")\n",
        "  else:\n",
        "    print(\"Wrong PIN\")\n",
        "\n"
      ],
      "metadata": {
        "colab": {
          "base_uri": "https://localhost:8080/"
        },
        "id": "rouDqkDOoPbU",
        "outputId": "babff81c-37fa-4077-946f-6e57e92e3066"
      },
      "execution_count": 23,
      "outputs": [
        {
          "output_type": "stream",
          "name": "stdout",
          "text": [
            "Enter you PIN:256\n",
            "Wrong PIN\n",
            "Enter you PIN:21\n",
            "Wrong PIN\n",
            "Enter you PIN:1234\n",
            "You can get the access\n"
          ]
        }
      ]
    },
    {
      "cell_type": "code",
      "source": [
        "# Reverse number"
      ],
      "metadata": {
        "id": "pBgo9MktpIwE"
      },
      "execution_count": null,
      "outputs": []
    },
    {
      "cell_type": "code",
      "source": [
        "num=int(input(\"Enter a number:\"))\n",
        "new=num\n",
        "count=0\n",
        "while num>0:\n",
        "  num=num//10\n",
        "  count=count+1\n",
        "print(\"Number of digits:\",count)\n",
        "print(\"Number\",new)\n",
        "final=0\n",
        "while count>0:\n",
        "  rem=new%10\n",
        "  final=final+rem*10**(count-1)\n",
        "  new=new//10\n",
        "  count=count-1\n",
        "print(\"Reverse number is:\",final)"
      ],
      "metadata": {
        "colab": {
          "base_uri": "https://localhost:8080/"
        },
        "id": "AtsApxHHpNNs",
        "outputId": "c6ec76b7-0f07-469e-cde8-7a16771c99d3"
      },
      "execution_count": 39,
      "outputs": [
        {
          "output_type": "stream",
          "name": "stdout",
          "text": [
            "Enter a number:1564\n",
            "Number of digits: 4\n",
            "Number 1564\n",
            "Reverse number is: 4651\n"
          ]
        }
      ]
    },
    {
      "cell_type": "code",
      "source": [
        "# ATM cash Dispensing Machine"
      ],
      "metadata": {
        "id": "3odga_i3sRol"
      },
      "execution_count": null,
      "outputs": []
    },
    {
      "cell_type": "code",
      "source": [
        "amount=int(input(\"Enter the amount:\"))\n",
        "count=0\n",
        "while amount>1500:\n",
        "  amount%2000\n",
        "  count=count+1\n",
        "  amount=amount-2000\n",
        "print(\"2000 rs notes are:\",count)\n",
        "print(amount)\n",
        "count1=0\n",
        "while amount>=500:\n",
        "  count1=count1+1\n",
        "  amount=amount-500\n",
        "print(\"500 rs notes are:\",count1)"
      ],
      "metadata": {
        "colab": {
          "base_uri": "https://localhost:8080/"
        },
        "id": "hJN_e6bosfCr",
        "outputId": "2a66b9d5-cb14-4735-c48a-ff1de93f8a48"
      },
      "execution_count": 74,
      "outputs": [
        {
          "output_type": "stream",
          "name": "stdout",
          "text": [
            "Enter the amount:9500\n",
            "2000 rs notes are: 4\n",
            "1500\n",
            "500 rs notes are: 3\n"
          ]
        }
      ]
    },
    {
      "cell_type": "code",
      "source": [
        "# Shopping cart - List operations"
      ],
      "metadata": {
        "id": "w9Uwr2TZx5J8"
      },
      "execution_count": null,
      "outputs": []
    },
    {
      "cell_type": "code",
      "source": [
        "ch=input(\"Enter item name:\")\n",
        "while ch!='done':\n",
        "  list.append(ch)\n",
        "  ch=input(print(\"Enter item name:\"))"
      ],
      "metadata": {
        "colab": {
          "base_uri": "https://localhost:8080/",
          "height": 211
        },
        "id": "qAPMomSzx-d9",
        "outputId": "38604d49-5e66-4a11-956d-4838a40820ed"
      },
      "execution_count": 75,
      "outputs": [
        {
          "name": "stdout",
          "output_type": "stream",
          "text": [
            "Enter item name:poi\n"
          ]
        },
        {
          "output_type": "error",
          "ename": "TypeError",
          "evalue": "descriptor 'append' for 'list' objects doesn't apply to a 'str' object",
          "traceback": [
            "\u001b[0;31m---------------------------------------------------------------------------\u001b[0m",
            "\u001b[0;31mTypeError\u001b[0m                                 Traceback (most recent call last)",
            "\u001b[0;32m<ipython-input-75-c7ca7ebcceb2>\u001b[0m in \u001b[0;36m<cell line: 0>\u001b[0;34m()\u001b[0m\n\u001b[1;32m      1\u001b[0m \u001b[0mch\u001b[0m\u001b[0;34m=\u001b[0m\u001b[0minput\u001b[0m\u001b[0;34m(\u001b[0m\u001b[0;34m\"Enter item name:\"\u001b[0m\u001b[0;34m)\u001b[0m\u001b[0;34m\u001b[0m\u001b[0;34m\u001b[0m\u001b[0m\n\u001b[1;32m      2\u001b[0m \u001b[0;32mwhile\u001b[0m \u001b[0mch\u001b[0m\u001b[0;34m!=\u001b[0m\u001b[0;34m'done'\u001b[0m\u001b[0;34m:\u001b[0m\u001b[0;34m\u001b[0m\u001b[0;34m\u001b[0m\u001b[0m\n\u001b[0;32m----> 3\u001b[0;31m   \u001b[0mlist\u001b[0m\u001b[0;34m.\u001b[0m\u001b[0mappend\u001b[0m\u001b[0;34m(\u001b[0m\u001b[0mch\u001b[0m\u001b[0;34m)\u001b[0m\u001b[0;34m\u001b[0m\u001b[0;34m\u001b[0m\u001b[0m\n\u001b[0m\u001b[1;32m      4\u001b[0m   \u001b[0mch\u001b[0m\u001b[0;34m=\u001b[0m\u001b[0minput\u001b[0m\u001b[0;34m(\u001b[0m\u001b[0mprint\u001b[0m\u001b[0;34m(\u001b[0m\u001b[0;34m\"Enter item name:\"\u001b[0m\u001b[0;34m)\u001b[0m\u001b[0;34m)\u001b[0m\u001b[0;34m\u001b[0m\u001b[0;34m\u001b[0m\u001b[0m\n",
            "\u001b[0;31mTypeError\u001b[0m: descriptor 'append' for 'list' objects doesn't apply to a 'str' object"
          ]
        }
      ]
    }
  ]
}