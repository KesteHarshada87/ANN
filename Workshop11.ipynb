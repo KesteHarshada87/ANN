{
  "nbformat": 4,
  "nbformat_minor": 0,
  "metadata": {
    "colab": {
      "provenance": [],
      "authorship_tag": "ABX9TyOL1hCvG8AbNGSE9cy3BXFK",
      "include_colab_link": true
    },
    "kernelspec": {
      "name": "python3",
      "display_name": "Python 3"
    },
    "language_info": {
      "name": "python"
    }
  },
  "cells": [
    {
      "cell_type": "markdown",
      "metadata": {
        "id": "view-in-github",
        "colab_type": "text"
      },
      "source": [
        "<a href=\"https://colab.research.google.com/github/KesteHarshada87/ANN/blob/main/Workshop11.ipynb\" target=\"_parent\"><img src=\"https://colab.research.google.com/assets/colab-badge.svg\" alt=\"Open In Colab\"/></a>"
      ]
    },
    {
      "cell_type": "code",
      "source": [
        "#shopping cart-list operation"
      ],
      "metadata": {
        "id": "i26TXMUwaNm9"
      },
      "execution_count": null,
      "outputs": []
    },
    {
      "cell_type": "code",
      "execution_count": 9,
      "metadata": {
        "colab": {
          "base_uri": "https://localhost:8080/"
        },
        "id": "iEJWKB6_XA8j",
        "outputId": "9488c2ae-9aa2-475b-ea69-dd238921cb9a"
      },
      "outputs": [
        {
          "output_type": "stream",
          "name": "stdout",
          "text": [
            "Enter maximum number of items: 10\n",
            "Enter item: kij\n",
            "You entered: kij\n",
            "Enter item: done\n",
            "End of items\n",
            "Loop ended.\n"
          ]
        }
      ],
      "source": [
        "num = int(input(\"Enter maximum number of items: \"))\n",
        "\n",
        "for i in range(num):\n",
        "    item = input(\"Enter item: \")\n",
        "\n",
        "    if item == \"done\":\n",
        "        print(\"End of items\")\n",
        "        break\n",
        "    else:\n",
        "        print(f\"You entered: {item}\")\n",
        "\n",
        "print(\"Loop ended.\")\n"
      ]
    },
    {
      "cell_type": "code",
      "source": [
        "# Student Grades Touple"
      ],
      "metadata": {
        "id": "R9RSZVAJaV8d"
      },
      "execution_count": null,
      "outputs": []
    },
    {
      "cell_type": "code",
      "source": [
        "grades = (\"B\", \"A\", \"C\", \"E\", \"D\", \"B\", \"A\")\n",
        "\n",
        "print(\"Grades:\", grades)\n",
        "\n",
        "print(\"Highest grade:\", min(grades))\n",
        "print(\"Lowest grade:\", max(grades))\n"
      ],
      "metadata": {
        "colab": {
          "base_uri": "https://localhost:8080/"
        },
        "id": "TyYo1Su8aa9n",
        "outputId": "3bde71aa-8002-424a-9e82-f973ba4e1d46"
      },
      "execution_count": 15,
      "outputs": [
        {
          "output_type": "stream",
          "name": "stdout",
          "text": [
            "Grades: ('B', 'A', 'C', 'E', 'D', 'B', 'A')\n",
            "Highest grade: A\n",
            "Lowest grade: E\n"
          ]
        }
      ]
    },
    {
      "cell_type": "code",
      "source": [
        "class Student:\n",
        "    def __init__(self, name, marks):\n",
        "        self.name = name\n",
        "        self.marks = marks\n",
        "\n",
        "    def display(self):\n",
        "        print(f\"Name: {self.name}\")\n",
        "        print(f\"Marks: {self.marks}\")\n",
        "\n",
        "    def check_pass(self):\n",
        "        if self.marks >= 40:\n",
        "            print(f\"{self.name} has Passed!\")\n",
        "        else:\n",
        "            print(f\"{self.name} has Failed.\")\n",
        "\n",
        "student1 = Student(\"John\", 90)\n",
        "student2 = Student(\"Alice\", 35)\n",
        "student3 = Student(\"Bob\", 50)\n",
        "\n",
        "student1.display()\n",
        "student1.check_pass()\n",
        "\n",
        "student2.display()\n",
        "student2.check_pass()\n",
        "\n",
        "student3.display()\n",
        "student3.check_pass()\n"
      ],
      "metadata": {
        "colab": {
          "base_uri": "https://localhost:8080/"
        },
        "id": "z2-jUd6aeW6J",
        "outputId": "eb82c4e1-36f0-415a-ea69-8974b8c6c1f1"
      },
      "execution_count": 21,
      "outputs": [
        {
          "output_type": "stream",
          "name": "stdout",
          "text": [
            "Name: John\n",
            "Marks: 90\n",
            "John has Passed!\n",
            "Name: Alice\n",
            "Marks: 35\n",
            "Alice has Failed.\n",
            "Name: Bob\n",
            "Marks: 50\n",
            "Bob has Passed!\n"
          ]
        }
      ]
    },
    {
      "cell_type": "code",
      "source": [],
      "metadata": {
        "id": "HyVrWH6xgw9F"
      },
      "execution_count": null,
      "outputs": []
    }
  ]
}