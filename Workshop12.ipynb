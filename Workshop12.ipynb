{
  "nbformat": 4,
  "nbformat_minor": 0,
  "metadata": {
    "colab": {
      "provenance": [],
      "authorship_tag": "ABX9TyMLqBrFkiDZdGu7YLA0Rdf0",
      "include_colab_link": true
    },
    "kernelspec": {
      "name": "python3",
      "display_name": "Python 3"
    },
    "language_info": {
      "name": "python"
    }
  },
  "cells": [
    {
      "cell_type": "markdown",
      "metadata": {
        "id": "view-in-github",
        "colab_type": "text"
      },
      "source": [
        "<a href=\"https://colab.research.google.com/github/KesteHarshada87/ANN/blob/main/Workshop12.ipynb\" target=\"_parent\"><img src=\"https://colab.research.google.com/assets/colab-badge.svg\" alt=\"Open In Colab\"/></a>"
      ]
    },
    {
      "cell_type": "code",
      "execution_count": null,
      "metadata": {
        "id": "LSQttGPfoK38"
      },
      "outputs": [],
      "source": [
        "#ATM Transaction System"
      ]
    },
    {
      "cell_type": "code",
      "source": [
        "initial=0\n",
        "def deposit(money):\n",
        "  return money+initial\n",
        "def withdraw(money):\n",
        "  return initial-money\n",
        "def balance(money):\n",
        "  return money\n",
        "\n",
        "money=(int(input(\"Enter the amount:\")))\n",
        "print(\"1.Deposit\")\n",
        "print(\"2.Withdraw\")\n",
        "print(\"3.Check\")\n",
        "choice=int(input(\"Enter your choice:\"))\n",
        "if choice==1:\n",
        "  deposit(money)\n",
        "  print(\"Your balance is:\",deposit(money))\n",
        "elif choice==2:\n",
        "  withdraw(money)\n",
        "  print(\"Your balance is:\",withdraw(money))\n",
        "elif choice==3:\n",
        "  print(\"Your balance is:\",balance(money))\n",
        "else:\n",
        "  print(\"Invalid choice\")"
      ],
      "metadata": {
        "colab": {
          "base_uri": "https://localhost:8080/"
        },
        "id": "I7jHv-6XotIM",
        "outputId": "1372f569-75b0-4f4f-9a75-e11fbda3d45c"
      },
      "execution_count": null,
      "outputs": [
        {
          "output_type": "stream",
          "name": "stdout",
          "text": [
            "Enter the amount:100\n",
            "1.Deposit\n",
            "2.Withdraw\n",
            "3.Check\n",
            "Enter your choice:2\n",
            "Your balance is: -100\n"
          ]
        }
      ]
    },
    {
      "cell_type": "code",
      "source": [
        "def checkGrade(marks):\n",
        "  if marks>=90 and marks<=100:\n",
        "    print(\"Grade A\")\n",
        "  elif marks>=80:\n",
        "    print(\"Grade B\")\n",
        "  elif marks>=70:\n",
        "    print(\"Grade C\")\n",
        "  elif marks>=60:\n",
        "    print(\"Grade D\")\n",
        "  elif marks<60:\n",
        "    print(\"Fail\")\n",
        "  else:\n",
        "    print(\"Wrong choice\")\n",
        "\n",
        "marks=int(input(\"Enter marks:\"))\n",
        "checkGrade(marks)\n"
      ],
      "metadata": {
        "id": "q8DwU5r8rLqX",
        "colab": {
          "base_uri": "https://localhost:8080/"
        },
        "outputId": "317258d3-4dc7-40eb-f52d-38eea860dd7d"
      },
      "execution_count": 18,
      "outputs": [
        {
          "output_type": "stream",
          "name": "stdout",
          "text": [
            "Enter marks:60\n",
            "Grade D\n"
          ]
        }
      ]
    },
    {
      "cell_type": "code",
      "source": [
        "#Simple calculator Using Function"
      ],
      "metadata": {
        "id": "wy58Tp1Ds4XU"
      },
      "execution_count": null,
      "outputs": []
    },
    {
      "cell_type": "code",
      "source": [
        "def calculator(op1,op2,operator):\n",
        "  if operator=='+':\n",
        "    print(\"Sum is:\",op1+op2)\n",
        "  elif operator=='-':\n",
        "    print(\"Sunstraction is:\",op1-op2)\n",
        "  elif operator=='/':\n",
        "    print(\"Division is:\",op1/op2)\n",
        "  elif operator=='%':\n",
        "    print(\"Modulus is:\",op1%op2)\n",
        "  else:\n",
        "    print(\"Inproper operator\")\n",
        "\n",
        "op1=int(input(\"Enter first operand:\"))\n",
        "op2=int(input(\"Enter second operand:\"))\n",
        "operator=input(\"Enter operator:\")\n",
        "calculator(op1,op2,operator)"
      ],
      "metadata": {
        "id": "dpgVgjCJs_h1",
        "colab": {
          "base_uri": "https://localhost:8080/"
        },
        "outputId": "bce6bef0-b743-46ca-a05e-f71fdf83bd3f"
      },
      "execution_count": 17,
      "outputs": [
        {
          "output_type": "stream",
          "name": "stdout",
          "text": [
            "Enter first operand:1\n",
            "Enter second operand:2\n",
            "Enter operator:-\n",
            "Sunstraction is: -1\n"
          ]
        }
      ]
    },
    {
      "cell_type": "code",
      "source": [
        "#Find the maximum of three"
      ],
      "metadata": {
        "id": "YNbPjKGHvVyd"
      },
      "execution_count": null,
      "outputs": []
    },
    {
      "cell_type": "code",
      "source": [
        "def findMax(n1,n2,n3):\n",
        "  if n1>n2 and n1>n3:\n",
        "    return n1\n",
        "  elif n2>n1 and n2>n3:\n",
        "    return n2\n",
        "  elif n3>n1 and n3>n2:\n",
        "    return n3\n",
        "\n",
        "n1=int(input(\"Enter first number:\"))\n",
        "n2=int(input(\"Enter second number:\"))\n",
        "n3=int(input(\"Enter third number:\"))\n",
        "findMax(n1,n2,n3)\n",
        "print(\"The greatest number is:\",findMax(n1,n2,n3))"
      ],
      "metadata": {
        "id": "nieKykokvkRT",
        "colab": {
          "base_uri": "https://localhost:8080/"
        },
        "outputId": "6cf74f5d-48e1-4418-e50e-7c90e6e4636d"
      },
      "execution_count": 14,
      "outputs": [
        {
          "output_type": "stream",
          "name": "stdout",
          "text": [
            "Enter first number:2\n",
            "Enter second number:3\n",
            "Enter third number:2\n",
            "The greatest number is: 3\n"
          ]
        }
      ]
    },
    {
      "cell_type": "code",
      "source": [
        "# Bank Account Class"
      ],
      "metadata": {
        "id": "yVJjodR8uJRN"
      },
      "execution_count": null,
      "outputs": []
    },
    {
      "cell_type": "code",
      "source": [
        "class BankAccount():\n",
        "    def __init__(self, account_number,account_holder_name,account_balance):\n",
        "      self.account_number=account_number\n",
        "      self.account_holder_name=account_holder_name\n",
        "      self.account_balance=account_balance\n",
        "\n",
        "def deposit(self,amount):\n",
        "  self.account_balance+=amount\n",
        "  print(\"Deposited\",amount,\"New balance:\",self.account_balance)\n",
        "\n",
        "def withdraw(self,amount):\n",
        "  self.account_balance-=amount\n",
        "  print(\"Withdraw\",amount,\"New balance:\",self.account_balance)\n",
        "\n",
        "BankAccount=BankAccount(account_number,account_holder_name,account_balance)\n",
        "print(\"1.Deposit\\n 2.Withdraw\")\n",
        "choice=int(input(\"Enter your choice\"))\n",
        "if choice==1:\n",
        "  amount=float(input(\"Enter amount to deposit:\"))\n",
        "  BankAccount.deposit(amount)\n",
        "elif choice==2:\n",
        "  amount=float(input(\"Enter amount to withdraw:\"))\n",
        "  BankAccount.withdraw(amount)\n",
        "else:\n",
        "  print(\"Wrong choice\")\n"
      ],
      "metadata": {
        "id": "eZ3aJBkuv9di",
        "colab": {
          "base_uri": "https://localhost:8080/",
          "height": 211
        },
        "outputId": "04d58084-2a38-4260-c9ca-478e86031971"
      },
      "execution_count": 13,
      "outputs": [
        {
          "output_type": "error",
          "ename": "NameError",
          "evalue": "name 'account_number' is not defined",
          "traceback": [
            "\u001b[0;31m---------------------------------------------------------------------------\u001b[0m",
            "\u001b[0;31mNameError\u001b[0m                                 Traceback (most recent call last)",
            "\u001b[0;32m<ipython-input-13-7d6b03c15629>\u001b[0m in \u001b[0;36m<cell line: 0>\u001b[0;34m()\u001b[0m\n\u001b[1;32m     13\u001b[0m   \u001b[0mprint\u001b[0m\u001b[0;34m(\u001b[0m\u001b[0;34m\"Withdraw\"\u001b[0m\u001b[0;34m,\u001b[0m\u001b[0mamount\u001b[0m\u001b[0;34m,\u001b[0m\u001b[0;34m\"New balance:\"\u001b[0m\u001b[0;34m,\u001b[0m\u001b[0mself\u001b[0m\u001b[0;34m.\u001b[0m\u001b[0maccount_balance\u001b[0m\u001b[0;34m)\u001b[0m\u001b[0;34m\u001b[0m\u001b[0;34m\u001b[0m\u001b[0m\n\u001b[1;32m     14\u001b[0m \u001b[0;34m\u001b[0m\u001b[0m\n\u001b[0;32m---> 15\u001b[0;31m \u001b[0mBankAccount\u001b[0m\u001b[0;34m=\u001b[0m\u001b[0mBankAccount\u001b[0m\u001b[0;34m(\u001b[0m\u001b[0maccount_number\u001b[0m\u001b[0;34m,\u001b[0m\u001b[0maccount_holder_name\u001b[0m\u001b[0;34m,\u001b[0m\u001b[0maccount_balance\u001b[0m\u001b[0;34m)\u001b[0m\u001b[0;34m\u001b[0m\u001b[0;34m\u001b[0m\u001b[0m\n\u001b[0m\u001b[1;32m     16\u001b[0m \u001b[0mprint\u001b[0m\u001b[0;34m(\u001b[0m\u001b[0;34m\"1.Deposit\\n 2.Withdraw\"\u001b[0m\u001b[0;34m)\u001b[0m\u001b[0;34m\u001b[0m\u001b[0;34m\u001b[0m\u001b[0m\n\u001b[1;32m     17\u001b[0m \u001b[0mchoice\u001b[0m\u001b[0;34m=\u001b[0m\u001b[0mint\u001b[0m\u001b[0;34m(\u001b[0m\u001b[0minput\u001b[0m\u001b[0;34m(\u001b[0m\u001b[0;34m\"Enter your choice\"\u001b[0m\u001b[0;34m)\u001b[0m\u001b[0;34m)\u001b[0m\u001b[0;34m\u001b[0m\u001b[0;34m\u001b[0m\u001b[0m\n",
            "\u001b[0;31mNameError\u001b[0m: name 'account_number' is not defined"
          ]
        }
      ]
    },
    {
      "cell_type": "code",
      "source": [
        "#Create a Book Class"
      ],
      "metadata": {
        "id": "kODrJX672R_k"
      },
      "execution_count": null,
      "outputs": []
    },
    {
      "cell_type": "code",
      "source": [
        "class Book():\n",
        "  def __init__(self, author,title):\n",
        "      self.author=author\n",
        "      self.title=title\n",
        "\n",
        "  def display(self):\n",
        "    print(\"Author is:\",author)\n",
        "    print(\"Title is:\",title)\n",
        "\n",
        "author=input(\"Enter author name:\")\n",
        "title=input(\"Enter title of book:\")\n",
        "Book=Book(author,title)\n",
        "Book.display()\n"
      ],
      "metadata": {
        "id": "8_E7Lvbc2VIr",
        "colab": {
          "base_uri": "https://localhost:8080/"
        },
        "outputId": "fecdf810-6e0e-40f7-a10f-3de1d290c3fa"
      },
      "execution_count": 10,
      "outputs": [
        {
          "output_type": "stream",
          "name": "stdout",
          "text": [
            "Enter author name:lkj\n",
            "Enter title of book:nhj\n",
            "Author is: lkj\n",
            "Title is: nhj\n"
          ]
        }
      ]
    },
    {
      "cell_type": "code",
      "source": [
        "#Create a Rectangle Class"
      ],
      "metadata": {
        "id": "YpXxuKWe0kPa"
      },
      "execution_count": null,
      "outputs": []
    },
    {
      "cell_type": "code",
      "source": [
        "class Rectangle():\n",
        "  def __init__(self,length,width):\n",
        "    self.length=length\n",
        "    self.width=width\n",
        "\n",
        "  def area(self):\n",
        "    print(\"Area is:\",length*width)\n",
        "\n",
        "  def perimeter(self):\n",
        "    print(\"Perimeter is:\",2*(length*width))\n",
        "\n",
        "length=int(input(\"Enter length of rectangle:\"))\n",
        "width=int(input(\"Enter width of rectangle:\"))\n",
        "Rectangle=Rectangle(length,width)\n",
        "Rectangle.area()\n",
        "Rectangle.perimeter()\n"
      ],
      "metadata": {
        "id": "zdcHfqCd2lo5",
        "colab": {
          "base_uri": "https://localhost:8080/"
        },
        "outputId": "543678f4-adb2-45f5-9fb1-6abb3f57eeda"
      },
      "execution_count": 19,
      "outputs": [
        {
          "output_type": "stream",
          "name": "stdout",
          "text": [
            "Enter length of rectangle:3\n",
            "Enter width of rectangle:1\n",
            "Area is: 3\n",
            "Perimeter is: 6\n"
          ]
        }
      ]
    },
    {
      "cell_type": "code",
      "source": [],
      "metadata": {
        "id": "WkuQewHX7SAK"
      },
      "execution_count": null,
      "outputs": []
    }
  ]
}