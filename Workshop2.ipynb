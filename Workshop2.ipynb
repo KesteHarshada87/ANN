{
  "nbformat": 4,
  "nbformat_minor": 0,
  "metadata": {
    "colab": {
      "provenance": [],
      "authorship_tag": "ABX9TyO2cM+0STRRLFP+PjfN8Hpw",
      "include_colab_link": true
    },
    "kernelspec": {
      "name": "python3",
      "display_name": "Python 3"
    },
    "language_info": {
      "name": "python"
    }
  },
  "cells": [
    {
      "cell_type": "markdown",
      "metadata": {
        "id": "view-in-github",
        "colab_type": "text"
      },
      "source": [
        "<a href=\"https://colab.research.google.com/github/KesteHarshada87/ANN/blob/main/Workshop2.ipynb\" target=\"_parent\"><img src=\"https://colab.research.google.com/assets/colab-badge.svg\" alt=\"Open In Colab\"/></a>"
      ]
    },
    {
      "cell_type": "code",
      "execution_count": null,
      "metadata": {
        "id": "V_q3UI-Wg70x"
      },
      "outputs": [],
      "source": [
        "# Create a movie class"
      ]
    },
    {
      "cell_type": "code",
      "source": [
        "class Movie():\n",
        "  def __init__(self,name,genre,rating):\n",
        "    self.name = name\n",
        "    self.genre = genre\n",
        "    self.rating = rating\n",
        "\n",
        "  def display(self):\n",
        "    print(\"Movie name is:\",name)\n",
        "    print(\"Movie genre is:\",genre)\n",
        "    print(\"Movie rating is:\",rating)\n",
        "\n",
        "name=input(\"Enter name of movie:\")\n",
        "genre=input(\"Enter genre of movie:\")\n",
        "rating=int(input(\"Enter rating for a movie\"))\n",
        "\n",
        "movie1=Movie(name,genre,rating)\n",
        "movie1.display()"
      ],
      "metadata": {
        "colab": {
          "base_uri": "https://localhost:8080/"
        },
        "id": "Uw3hyA9QhA7o",
        "outputId": "31e424a5-6496-4719-d67c-3784b3ebacca"
      },
      "execution_count": null,
      "outputs": [
        {
          "output_type": "stream",
          "name": "stdout",
          "text": [
            "Enter name of movie:lkj\n",
            "Enter genre of movie:njk\n",
            "Enter rating for a movie5\n",
            "Movie name is: lkj\n",
            "Movie genre is: njk\n",
            "Movie rating is: 5\n"
          ]
        }
      ]
    },
    {
      "cell_type": "code",
      "source": [
        "# Create a Traffic Light Simulation"
      ],
      "metadata": {
        "id": "QHcF0pr-iYCE"
      },
      "execution_count": null,
      "outputs": []
    },
    {
      "cell_type": "code",
      "source": [
        "class TrafficLight():\n",
        "  def __init__(self,colour):\n",
        "    self.colour=colour\n",
        "\n",
        "  def change(self,colour):\n",
        "    if self.colour == \"red\":\n",
        "      self.colour = \"green\"\n",
        "      print(\"Colour is:\",self.colour)\n",
        "    elif self.colour == \"green\":\n",
        "      self.colour == \"yellow\"\n",
        "      print(\"Colour is:\",self.colour)\n",
        "    elif self.colour == \"yellow\":\n",
        "      self.colour == \"red\"\n",
        "      print(\"Colour is:\",self.colour)\n",
        "    else:\n",
        "      print(\"Invalid colour\")\n",
        "\n",
        "colour=input(\"Enter colour:\")\n",
        "c1=TrafficLight(colour)\n",
        "c1.change(colour)\n",
        "\n"
      ],
      "metadata": {
        "colab": {
          "base_uri": "https://localhost:8080/"
        },
        "id": "fRSQfEOIit5X",
        "outputId": "f09c6e26-42fd-461c-e0dd-f3a0ae19186e"
      },
      "execution_count": null,
      "outputs": [
        {
          "output_type": "stream",
          "name": "stdout",
          "text": [
            "Enter colour:red\n",
            "Colour is: green\n"
          ]
        }
      ]
    },
    {
      "cell_type": "code",
      "source": [
        "# Create Salary Increment System"
      ],
      "metadata": {
        "id": "TFofjMe7ndU_"
      },
      "execution_count": null,
      "outputs": []
    },
    {
      "cell_type": "code",
      "source": [
        "class Employee():\n",
        "  def __init__(self,name,salary):\n",
        "    self.name=name\n",
        "    self.salary=salary\n",
        "\n",
        "  def increment(self):\n",
        "    percentage=int(input(\"How many percentage you want to increment in salary?\"))\n",
        "    salary1=(self.salary*percentage)/100\n",
        "    self.salary=self.salary+salary1\n",
        "    print(\"New salary is:\",self.salary)\n",
        "\n",
        "salary=int(input(\"Enter employee's salary:\"))\n",
        "name=input(\"Enter employee's name:\")\n",
        "e1=Employee(name,salary)\n",
        "e1.increment()"
      ],
      "metadata": {
        "colab": {
          "base_uri": "https://localhost:8080/"
        },
        "id": "HZTDfqxrno3d",
        "outputId": "95e2db70-802b-4e1e-d455-15682b2feb6f"
      },
      "execution_count": null,
      "outputs": [
        {
          "output_type": "stream",
          "name": "stdout",
          "text": [
            "Enter employee's salary:100\n",
            "Enter employee's name:lkj\n",
            "How many percentage you want to increment in salary?10\n",
            "New salary is: 110.0\n"
          ]
        }
      ]
    },
    {
      "cell_type": "code",
      "source": [
        "# Age Calculator"
      ],
      "metadata": {
        "id": "Qqxi2z3OqrNT"
      },
      "execution_count": null,
      "outputs": []
    },
    {
      "cell_type": "code",
      "source": [
        "year=int(input(\"Enter your birth year:\"))\n",
        "year=2025-year\n",
        "print(\"Your age is:\",year)"
      ],
      "metadata": {
        "colab": {
          "base_uri": "https://localhost:8080/"
        },
        "id": "VdiJip1yqwd0",
        "outputId": "330baf91-d3ad-46e8-a0a5-07fc5df5507b"
      },
      "execution_count": 2,
      "outputs": [
        {
          "output_type": "stream",
          "name": "stdout",
          "text": [
            "Enter your birth year:2004\n",
            "Your age is: 21\n"
          ]
        }
      ]
    }
  ]
}