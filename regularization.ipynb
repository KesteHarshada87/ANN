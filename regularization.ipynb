{
  "nbformat": 4,
  "nbformat_minor": 0,
  "metadata": {
    "colab": {
      "provenance": [],
      "authorship_tag": "ABX9TyPRmVzycICgj3+okoCOzyyX",
      "include_colab_link": true
    },
    "kernelspec": {
      "name": "python3",
      "display_name": "Python 3"
    },
    "language_info": {
      "name": "python"
    }
  },
  "cells": [
    {
      "cell_type": "markdown",
      "metadata": {
        "id": "view-in-github",
        "colab_type": "text"
      },
      "source": [
        "<a href=\"https://colab.research.google.com/github/KesteHarshada87/ANN/blob/main/regularization.ipynb\" target=\"_parent\"><img src=\"https://colab.research.google.com/assets/colab-badge.svg\" alt=\"Open In Colab\"/></a>"
      ]
    },
    {
      "cell_type": "code",
      "execution_count": 1,
      "metadata": {
        "colab": {
          "base_uri": "https://localhost:8080/"
        },
        "id": "YAah_peXw56n",
        "outputId": "0b221d5d-3349-43d6-f8d4-009218bc2c3a"
      },
      "outputs": [
        {
          "output_type": "stream",
          "name": "stdout",
          "text": [
            "Predictions for new inputs: [0 1]\n"
          ]
        }
      ],
      "source": [
        "\n",
        "import pandas as pd\n",
        "from sklearn.linear_model import LogisticRegression\n",
        "\n",
        "\n",
        "data = {\n",
        "    'age': [25, 45, 35, 50, 23, 52, 40, 60],\n",
        "    'blood_pressure': [120, 140, 130, 160, 110, 170, 135, 180],\n",
        "    'cholesterol': [200, 250, 210, 260, 190, 270, 220, 280],\n",
        "    'has_disease': [0, 1, 0, 1, 0, 1, 0, 1]\n",
        "}\n",
        "df = pd.DataFrame(data)\n",
        "\n",
        "\n",
        "X = df[['age', 'blood_pressure', 'cholesterol']]\n",
        "y = df['has_disease']\n",
        "\n",
        "# Creating logistic regression model with L2 regularization\n",
        "model = LogisticRegression(penalty='l2', C=1.0)\n",
        "\n",
        "# Training the model on the full dataset\n",
        "model.fit(X, y)\n",
        "\n",
        "#  New input data for prediction\n",
        "new_input = pd.DataFrame({\n",
        "    'age': [30, 55],\n",
        "    'blood_pressure': [125, 155],\n",
        "    'cholesterol': [210, 250]\n",
        "})\n",
        "\n",
        "predictions = model.predict(new_input)\n",
        "\n",
        "print(\"Predictions for new inputs:\", predictions)\n"
      ]
    }
  ]
}